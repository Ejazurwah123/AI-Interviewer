{
 "cells": [
  {
   "cell_type": "code",
   "execution_count": 1,
   "metadata": {},
   "outputs": [],
   "source": [
    "import numpy as np\n",
    "import pandas as pd\n",
    "import matplotlib.pyplot as plt\n"
   ]
  },
  {
   "cell_type": "code",
   "execution_count": 7,
   "metadata": {},
   "outputs": [],
   "source": [
    "import ssl\n",
    "ssl._create_default_https_context = ssl._create_unverified_context"
   ]
  },
  {
   "cell_type": "code",
   "execution_count": 18,
   "metadata": {},
   "outputs": [
    {
     "name": "stderr",
     "output_type": "stream",
     "text": [
      "[nltk_data] Downloading package punkt to /Users/urwah/nltk_data...\n",
      "[nltk_data]   Package punkt is already up-to-date!\n",
      "[nltk_data] Downloading package averaged_perceptron_tagger to\n",
      "[nltk_data]     /Users/urwah/nltk_data...\n",
      "[nltk_data]   Package averaged_perceptron_tagger is already up-to-\n",
      "[nltk_data]       date!\n",
      "[nltk_data] Downloading package maxent_ne_chunker to\n",
      "[nltk_data]     /Users/urwah/nltk_data...\n",
      "[nltk_data]   Package maxent_ne_chunker is already up-to-date!\n",
      "[nltk_data] Downloading package words to /Users/urwah/nltk_data...\n",
      "[nltk_data]   Package words is already up-to-date!\n",
      "[nltk_data] Downloading package stopwords to /Users/urwah/nltk_data...\n",
      "[nltk_data]   Package stopwords is already up-to-date!\n",
      "[nltk_data] Downloading package wordnet to /Users/urwah/nltk_data...\n",
      "[nltk_data]   Package wordnet is already up-to-date!\n"
     ]
    },
    {
     "name": "stdout",
     "output_type": "stream",
     "text": [
      "Answer 1: 'My greatest strength is my ability to quickly adapt to new situations and learn new skills.' is polite and factual.\n",
      "Answer 2: 'My greatest weakness is sometimes taking on too much responsibility, but I am working on better delegation.' is polite and factual.\n",
      "Answer 3: 'I admire your company's commitment to innovation and think my skills would be a great match for your team.' is polite and factual.\n",
      "Answer 4: 'I am a dedicated AI student with hands-on experience from my internship at AIM LAB, looking to apply my skills in a dynamic environment.' is polite and factual.\n",
      "Answer 5: 'In five years, I see myself in a leadership role, helping to drive strategic AI initiatives in a forward-thinking company.' is polite and factual.\n",
      "Answer 6: 'I am motivated by challenging projects and the opportunity to learn and grow professionally.' is polite and factual.\n",
      "Answer 7: 'I handle stress by staying organized, prioritizing tasks, and taking breaks to recharge when needed.' is polite and factual.\n",
      "Answer 8: 'In a project at AIM LAB, I encountered a data issue; I resolved it by conducting thorough research and consulting with colleagues.' is polite and factual.\n",
      "Answer 9: 'I prioritize tasks based on deadlines and importance, using a combination of to-do lists and project management tools.' is polite and factual.\n",
      "Answer 10: 'My salary expectations are flexible and negotiable, based on the role and its responsibilities.' is polite and factual.\n",
      "Answer 11: 'My unique combination of technical skills in AI and practical experience from my internship makes me a strong candidate.' is polite and factual.\n",
      "Answer 12: 'I define success as achieving set goals while maintaining a balanced and fulfilling personal and professional life.' is polite and factual.\n",
      "Answer 13: 'I am seeking new challenges and opportunities for growth that align more closely with my career goals.' is polite and factual.\n",
      "Answer 14: 'I work well in a team by communicating effectively, being open to feedback, and supporting my colleagues.' is polite and factual.\n",
      "Answer 15: 'My career goal is to become a leading AI expert and contribute to groundbreaking projects in the tech industry.' is polite and factual.\n",
      "Answer 16: 'I handle conflict by addressing it directly, listening to all parties involved, and finding a mutually beneficial solution.' is polite and factual.\n",
      "Answer 17: 'At AIM LAB, I led a project team, coordinating tasks and ensuring timely completion of deliverables.' is polite and factual.\n",
      "Answer 18: 'My greatest achievement is developing a machine learning model that improved project efficiency at AIM LAB.' is polite and factual.\n",
      "Answer 19: 'I stay current by reading industry publications, attending webinars' is polite and factual.\n",
      "Answer 20: 'My ideal work environment is collaborative, innovative, and offers opportunities for continuous learning.' is polite and factual.\n",
      "Answer 21: 'My work style is detail-oriented, proactive, and focused on delivering high-quality results.' is polite and factual.\n",
      "Answer 22: 'I approach problem-solving by analyzing the issue, brainstorming solutions, and implementing the most effective one.' is polite and factual.\n",
      "Answer 23: 'Outside of work, I enjoy coding personal projects, reading about AI advancements, and playing chess.' is polite and factual.\n",
      "Answer 24: 'I handle tight deadlines by staying organized, prioritizing tasks, and maintaining a clear focus on the end goal.' is polite and factual.\n",
      "Answer 25: 'My technical skills include proficiency in Python, machine learning algorithms, data analysis, and AI model development.' is polite and factual.\n",
      "Answer 26: 'I manage multiple projects by creating detailed plans, setting clear priorities, and regularly reviewing progress.' is polite and factual.\n",
      "Answer 27: 'At my previous internship, I volunteered to take on additional responsibilities to ensure a critical project was completed on time.' is polite and factual.\n",
      "Answer 28: 'I know your company is a leader in AI innovation, with a strong commitment to research and development.' is polite and factual.\n",
      "Answer 29: 'I handle feedback by listening carefully, reflecting on the points made, and taking actionable steps to improve.' is polite and factual.\n",
      "Answer 30: 'I have extensive experience with [specific tool/technology], having used it in various projects during my internship.' is polite and factual.\n",
      "Answer 31: 'My hobbies include programming, reading about AI, and participating in tech meetups.' is polite and factual.\n",
      "Answer 32: 'I ensure accuracy by double-checking my work, using verification tools, and seeking peer reviews.' is polite and factual.\n",
      "Answer 33: 'I am proud of developing an AI model at AIM LAB that optimized resource allocation, significantly improving efficiency.' is polite and factual.\n",
      "Answer 34: 'Key qualities for success include strong analytical skills, effective communication, and the ability to work collaboratively.' is polite and factual.\n",
      "Answer 35: 'I handle repetitive tasks by finding ways to automate processes and maintaining a positive attitude.' is polite and factual.\n",
      "Answer 36: 'My approach to continuous learning involves taking online courses, attending workshops, and staying updated with industry trends.' is polite and factual.\n",
      "Answer 37: 'I deal with failure by analyzing what went wrong, learning from the experience, and applying those lessons to future projects.' is polite and factual.\n",
      "Answer 38: 'I have experience with various team collaboration tools like Slack, Trello, and Microsoft Teams, which I use to enhance team communication and project management.' is polite and factual.\n",
      "Answer 39: 'I improved a data processing workflow at my previous job by implementing a new automation script, reducing manual work and errors.' is polite and factual.\n",
      "Answer 40: 'My approach to time management includes setting clear goals, breaking tasks into manageable chunks, and using tools like calendars and to-do lists.' is polite and factual.\n",
      "Answer 41: 'I ensure effective communication by being clear and concise, actively listening, and encouraging open dialogue.' is polite and factual.\n",
      "Answer 42: 'I am motivated by the opportunity to work with a talented team and contribute to innovative projects that align with my career aspirations.' is polite and factual.\n",
      "Answer 43: 'I handle constructive criticism by viewing it as an opportunity for growth and making improvements based on the feedback received.' is polite and factual.\n",
      "Answer 44: 'I successfully managed a project at my previous internship that involved developing an AI solution to optimize supply chain processes, resulting in significant cost savings.' is polite and factual.\n",
      "Answer 45: 'I approach learning new technologies by dedicating time to study, experimenting with practical applications, and seeking mentorship when needed.' is polite and factual.\n",
      "Answer 46: 'I have experience with agile methodologies from my internship, where I participated in sprint planning, daily stand-ups, and retrospectives.' is polite and factual.\n",
      "Answer 47: 'I handle ambiguity by seeking clarification, breaking down the problem into smaller tasks, and staying flexible to adapt as needed.' is polite and factual.\n",
      "Answer 48: 'I have extensive experience with data analysis, using tools like Python and R to clean, analyze, and visualize data for various projects.' is polite and factual.\n",
      "Answer 49: 'I keep myself organized by using project management tools, maintaining a structured schedule, and regularly reviewing my priorities.' is polite and factual.\n",
      "Answer 50: 'My long-term professional aspiration is to become a leading AI expert, driving innovation and making significant contributions to the field.' is polite and factual.\n",
      "Answer 51: 'Weekends? Just chillin', maybe catchin' up on some sleep and hangin' with the crew.' is harsh or non-factual.\n",
      "Answer 52: 'Unwind? Just kick back with some Netflix and snacks, easy peasy.' is harsh or non-factual.\n",
      "Answer 53: 'Difficult folks? Just keep it cool and don't let 'em get under my skin.' is harsh or non-factual.\n",
      "Answer 54: 'Pet peeve? Definitely when people talk over others, like, c'mon man, take a turn.' is harsh or non-factual.\n",
      "Answer 55: 'Motivation? Just keep my eyes on the prize and power through, one step at a time.' is harsh or non-factual.\n",
      "Answer 56: 'Favorite thing? Just the whole vibe, man. It's like living in the future.' is harsh or non-factual.\n",
      "Answer 57: 'Changes? Just roll with it, adapt, and keep movin' forward' is harsh or non-factual.\n",
      "Answer 58: 'Learning? Just dive in headfirst and figure it out as I go.' is harsh or non-factual.\n",
      "Answer 59: 'Balance? Just make sure to clock out mentally and take time for myself.' is harsh or non-factual.\n",
      "Answer 60: 'Seriously? Isn't that what you should have figured out before calling me in?' is harsh or non-factual.\n",
      "Answer 61: 'Because I was tired of dealing with clueless management. Simple as that.' is harsh or non-factual.\n",
      "Answer 62: 'Why dig up old mistakes? Everyone screws up; it's not like it matters now.' is harsh or non-factual.\n",
      "Answer 63: 'Constructive criticism? Yeah, I usually ignore it because most people don't know what they're talking about.' is harsh or non-factual.\n",
      "Answer 64: 'They'd probably say I'm a bit of a hard-ass, but who cares? I'm here to get results, not make friends.' is harsh or non-factual.\n"
     ]
    }
   ],
   "source": [
    "import pandas as pd\n",
    "from textblob import TextBlob\n",
    "import nltk\n",
    "from nltk.tokenize import word_tokenize, sent_tokenize\n",
    "from nltk.corpus import stopwords\n",
    "from nltk.stem import WordNetLemmatizer\n",
    "\n",
    "\n",
    "nltk.download('punkt')\n",
    "nltk.download('averaged_perceptron_tagger')\n",
    "nltk.download('maxent_ne_chunker')\n",
    "nltk.download('words')\n",
    "nltk.download('stopwords')\n",
    "nltk.download('wordnet')  # Download WordNet\n",
    "\n",
    "# Function to perform NLP analysis on each answer\n",
    "def analyze_answer(answer):\n",
    "\n",
    "    tokens = word_tokenize(answer)\n",
    "    \n",
    "    # Sentiment Analysis using TextBlob\n",
    "    blob = TextBlob(answer)\n",
    "    sentiment = blob.sentiment\n",
    "    \n",
    "    # Named Entity Recognition (NER) using NLTK\n",
    "    words = nltk.word_tokenize(answer)\n",
    "    pos_tags = nltk.pos_tag(words)\n",
    "    chunks = nltk.ne_chunk(pos_tags)\n",
    "    entities = []\n",
    "    for chunk in chunks:\n",
    "        if hasattr(chunk, 'label'):\n",
    "            entities.append((chunk.label(), ' '.join(c[0] for c in chunk)))\n",
    "    \n",
    "    # Lemmatization using WordNet\n",
    "    lemmatizer = WordNetLemmatizer()\n",
    "    tokens = [lemmatizer.lemmatize(token.lower()) for token in tokens if token.isalnum()]\n",
    "    \n",
    "    return tokens, sentiment, entities\n",
    "\n",
    "\n",
    "dataset_path = 'interview_dataset.csv'\n",
    "df = pd.read_csv(dataset_path)\n",
    "\n",
    "\n",
    "for index, row in df.iterrows():\n",
    "    answer = row['Answers']\n",
    "    rudeness_rating = row['Rudeness Rate']\n",
    "    frankness_rating = row['Frankness Rate']\n",
    "    \n",
    "\n",
    "    tokens, sentiment, entities = analyze_answer(answer)\n",
    "    \n",
    "\n",
    "    if rudeness_rating >= 5 or frankness_rating >= 6:\n",
    "        print(f\"Answer {index + 1}: '{answer}' is harsh or non-factual.\")\n",
    "    else:\n",
    "        print(f\"Answer {index + 1}: '{answer}' is polite and factual.\")\n",
    "    \n",
    "    \n"
   ]
  },
  {
   "cell_type": "markdown",
   "metadata": {},
   "source": [
    "# Speech to Text"
   ]
  },
  {
   "cell_type": "code",
   "execution_count": 32,
   "metadata": {},
   "outputs": [
    {
     "data": {
      "text/plain": [
       "'s3.wav'"
      ]
     },
     "execution_count": 32,
     "metadata": {},
     "output_type": "execute_result"
    }
   ],
   "source": [
    "from pydub import AudioSegment\n",
    "import os\n",
    "\n",
    "def convert_mp3_to_wav(mp3_file):\n",
    "    audio = AudioSegment.from_mp3(mp3_file)\n",
    "    # Set output file path\n",
    "    wav_file = os.path.splitext(mp3_file)[0] + \".wav\"\n",
    "    # Export as WAV\n",
    "    audio.export(wav_file, format=\"wav\")\n",
    "    return wav_file\n",
    "\n",
    "convert_mp3_to_wav('s3.mp3')"
   ]
  },
  {
   "cell_type": "markdown",
   "metadata": {},
   "source": [
    "below given code is to test whether sr works or not"
   ]
  },
  {
   "cell_type": "code",
   "execution_count": 38,
   "metadata": {},
   "outputs": [
    {
     "name": "stdout",
     "output_type": "stream",
     "text": [
      "kya Stevenson is a pharmaceutical a member of Patriotic millionaires UK one of the signatories petitioning abc is an unusual situation you have to admit you and your colleagues on the list you came million US to put together this letter from today\n"
     ]
    }
   ],
   "source": [
    "import speech_recognition as sr\n",
    "r = sr.Recognizer()\n",
    "with sr.AudioFile('s3.wav') as source:\n",
    "    audio_text = r.listen(source)\n",
    "text = r.recognize_google(audio_text)\n",
    "print(text)\n",
    "audio_text = text"
   ]
  },
  {
   "cell_type": "markdown",
   "metadata": {},
   "source": [
    "# Text to Speech"
   ]
  },
  {
   "cell_type": "markdown",
   "metadata": {},
   "source": [
    "This will generate audio files and hence I can work on audios"
   ]
  },
  {
   "cell_type": "code",
   "execution_count": 48,
   "metadata": {},
   "outputs": [
    {
     "name": "stdout",
     "output_type": "stream",
     "text": [
      "Saved audio file: Audio1.mp3\n",
      "Saved audio file: Audio2.mp3\n",
      "Saved audio file: Audio3.mp3\n",
      "Saved audio file: Audio4.mp3\n",
      "Saved audio file: Audio5.mp3\n",
      "Saved audio file: Audio6.mp3\n",
      "Saved audio file: Audio7.mp3\n",
      "Saved audio file: Audio8.mp3\n",
      "Saved audio file: Audio9.mp3\n",
      "Saved audio file: Audio10.mp3\n",
      "Saved audio file: Audio11.mp3\n",
      "Saved audio file: Audio12.mp3\n",
      "Saved audio file: Audio13.mp3\n",
      "Saved audio file: Audio14.mp3\n",
      "Saved audio file: Audio15.mp3\n",
      "Saved audio file: Audio16.mp3\n",
      "Saved audio file: Audio17.mp3\n",
      "Saved audio file: Audio18.mp3\n",
      "Saved audio file: Audio19.mp3\n",
      "Saved audio file: Audio20.mp3\n",
      "Saved audio file: Audio21.mp3\n",
      "Saved audio file: Audio22.mp3\n",
      "Saved audio file: Audio23.mp3\n",
      "Saved audio file: Audio24.mp3\n",
      "Saved audio file: Audio25.mp3\n",
      "Saved audio file: Audio26.mp3\n",
      "Saved audio file: Audio27.mp3\n",
      "Saved audio file: Audio28.mp3\n",
      "Saved audio file: Audio29.mp3\n",
      "Saved audio file: Audio30.mp3\n"
     ]
    }
   ],
   "source": [
    "import pandas as pd\n",
    "from gtts import gTTS\n",
    "from translate import Translator\n",
    "\n",
    "\n",
    "df = pd.read_csv('answers.csv')\n",
    "translator = Translator(to_lang=\"en\")\n",
    "for idx, ans in enumerate(df['Answers']):\n",
    "    text_to_speak = ans\n",
    "    tts = gTTS(text=text_to_speak, lang='en')\n",
    "    filename = f\"Audio{idx + 1}.mp3\" \n",
    "    tts.save(filename)\n",
    "    print(f\"Saved audio file: {filename}\")\n"
   ]
  },
  {
   "cell_type": "code",
   "execution_count": null,
   "metadata": {},
   "outputs": [],
   "source": []
  }
 ],
 "metadata": {
  "kernelspec": {
   "display_name": "Python 3",
   "language": "python",
   "name": "python3"
  },
  "language_info": {
   "codemirror_mode": {
    "name": "ipython",
    "version": 3
   },
   "file_extension": ".py",
   "mimetype": "text/x-python",
   "name": "python",
   "nbconvert_exporter": "python",
   "pygments_lexer": "ipython3",
   "version": "3.11.4"
  }
 },
 "nbformat": 4,
 "nbformat_minor": 2
}
